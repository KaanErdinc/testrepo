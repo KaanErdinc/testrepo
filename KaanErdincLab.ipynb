{
 "cells": [
  {
   "cell_type": "markdown",
   "id": "13509c5a-087b-417e-9d0a-d9467164ff88",
   "metadata": {},
   "source": [
    "# My Jupyter Notebook on Watson Studio"
   ]
  },
  {
   "cell_type": "markdown",
   "id": "521eaa31-d721-48cd-853b-5da4822ac4f0",
   "metadata": {
    "tags": []
   },
   "source": [
    "__Kaan Erdinc__\n",
    "\n",
    "I am economics graduate who has an interest for data science"
   ]
  },
  {
   "cell_type": "markdown",
   "id": "4c069699-e12e-41af-b7c8-9a571bcaac16",
   "metadata": {},
   "source": [
    "_I am interested in data science because it is crucial for businesses._"
   ]
  },
  {
   "cell_type": "markdown",
   "id": "ad8dd713-7a7d-4c4a-bb74-450ebe5b52d4",
   "metadata": {},
   "source": [
    "### The following code is a basic array multiplication using NumPy"
   ]
  },
  {
   "cell_type": "code",
   "execution_count": 1,
   "id": "dfe6f60b-3208-48e5-82ca-6d7d011cd0d2",
   "metadata": {},
   "outputs": [],
   "source": [
    "import numpy as np"
   ]
  },
  {
   "cell_type": "code",
   "execution_count": null,
   "id": "a6e1b239-7a51-4477-b52e-fe8f0ff97aff",
   "metadata": {},
   "outputs": [],
   "source": []
  },
  {
   "cell_type": "code",
   "execution_count": 3,
   "id": "633de915-f424-42c4-ada9-b04e0df9b5b5",
   "metadata": {},
   "outputs": [
    {
     "name": "stdout",
     "output_type": "stream",
     "text": [
      "x:\n",
      " [1 2 3]\n",
      "y:\n",
      " [4 5 6]\n",
      "np.dot(x,y):\n",
      " 32\n"
     ]
    }
   ],
   "source": [
    "x= np.array([1,2,3])\n",
    "y= np.array([4,5,6])\n",
    "print('x:\\n',x)\n",
    "print('y:\\n',y)\n",
    "print('np.dot(x,y):\\n',np.dot(x,y))"
   ]
  },
  {
   "cell_type": "markdown",
   "id": "66811c4c-2d59-445d-ae9e-024cde8208ee",
   "metadata": {},
   "source": [
    "1. Number one\n",
    "2. Number two\n",
    "3. Number three\n",
    "\n",
    "* Bulleted item 1\n",
    "* Bulleted item 2\n",
    "\n"
   ]
  },
  {
   "cell_type": "code",
   "execution_count": null,
   "id": "89ceb205-1337-4755-b7d6-1a1ad9ebd695",
   "metadata": {},
   "outputs": [],
   "source": []
  }
 ],
 "metadata": {
  "kernelspec": {
   "display_name": "Python",
   "language": "python",
   "name": "conda-env-python-py"
  },
  "language_info": {
   "codemirror_mode": {
    "name": "ipython",
    "version": 3
   },
   "file_extension": ".py",
   "mimetype": "text/x-python",
   "name": "python",
   "nbconvert_exporter": "python",
   "pygments_lexer": "ipython3",
   "version": "3.7.12"
  }
 },
 "nbformat": 4,
 "nbformat_minor": 5
}
